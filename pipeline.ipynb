{
 "cells": [
  {
   "cell_type": "code",
   "execution_count": 11,
   "metadata": {},
   "outputs": [],
   "source": [
    "import pandas as pd\n",
    "from tqdm.notebook import tqdm\n",
    "file_path = 'Book1.xlsx'\n",
    "\n",
    "all_sheets = pd.read_excel(file_path, sheet_name=None)"
   ]
  },
  {
   "cell_type": "code",
   "execution_count": 12,
   "metadata": {},
   "outputs": [
    {
     "data": {
      "text/plain": [
       "{'Sheet1':    متغیر  مستقل x متغیر وابسته y\n",
       " 0           price            ytm\n",
       " 1          981060       0.199879\n",
       " 2          985500         0.5239\n",
       " 3          964000       0.261768\n",
       " 4         1000000       0.192395\n",
       " 5          820000       0.273655\n",
       " 6          917000       0.302638\n",
       " 7          940000       0.259974\n",
       " 8         1000000       0.187628\n",
       " 9         1000000        0.18782\n",
       " 10        1000000         0.1924\n",
       " 11         939990       0.224509\n",
       " 12         987000       0.210879\n",
       " 13         677210       0.270623\n",
       " 14        1000000       0.187602\n",
       " 15         974900       0.242328\n",
       " 16         837310       0.270919\n",
       " 17         627870       0.269039\n",
       " 18        1000000       0.191155\n",
       " 19        1000000       0.227059\n",
       " 20        1000000       0.250416\n",
       " 21         950000       0.560114\n",
       " 22         652840       0.270554\n",
       " 23        1000000        0.25023\n",
       " 24         944000       0.260754\n",
       " 25         978800       0.242562\n",
       " 26        1000000       0.187957\n",
       " 27         980000       0.285704\n",
       " 28         967220        0.24059\n",
       " 29         615280       0.270276\n",
       " 30        1000000       0.192442\n",
       " 31        1000000       0.187762\n",
       " 32        1000000       0.187973\n",
       " 33         574190       0.184628\n",
       " 34         936325       0.241668\n",
       " 35         950000        0.24123\n",
       " 36         987380        0.20173\n",
       " 37         990100       0.191797\n",
       " 38        1000000       0.250551\n",
       " 39         990170       0.238833\n",
       " 40         549930       0.273415\n",
       " 41         487540       0.273371\n",
       " 42        1000000       0.193201,\n",
       " 'Sheet1 (2)':    متغیر مستقل دوم x2 متغیر  مستقل اول x1 متغیر وابسته y\n",
       " 0           inventory               price            ytm\n",
       " 1                2000              981060       0.199879\n",
       " 2                2600              985500         0.5239\n",
       " 3                4700              964000       0.261768\n",
       " 4                5000             1000000       0.192395\n",
       " 5                5000              820000       0.273655\n",
       " 6                5000              917000       0.302638\n",
       " 7               10000              940000       0.259974\n",
       " 8               20000             1000000       0.187628\n",
       " 9               24800             1000000        0.18782\n",
       " 10              32000             1000000         0.1924\n",
       " 11              42300              939990       0.224509\n",
       " 12              45700              987000       0.210879\n",
       " 13              78300              677210       0.270623\n",
       " 14              80000             1000000       0.187602\n",
       " 15              81000              974900       0.242328\n",
       " 16             108000              837310       0.270919\n",
       " 17             110000              627870       0.269039\n",
       " 18             149600             1000000       0.191155\n",
       " 19            1065000             1000000       0.227059\n",
       " 20             717500             1000000       0.250416\n",
       " 21             349794              950000       0.560114\n",
       " 22             442000              652840       0.270554\n",
       " 23             500000             1000000        0.25023\n",
       " 24             645900              944000       0.260754\n",
       " 25            2100000              978800       0.242562\n",
       " 26            1165000             1000000       0.187957\n",
       " 27            1000000              980000       0.285704\n",
       " 28            1010000              967220        0.24059\n",
       " 29            1038997              615280       0.270276\n",
       " 30            1479895             1000000       0.192442\n",
       " 31            1551365             1000000       0.187762\n",
       " 32            1590100             1000000       0.187973\n",
       " 33            1679670              574190       0.184628\n",
       " 34            3000000              936325       0.241668\n",
       " 35            3300000              950000        0.24123\n",
       " 36            3333400              987380        0.20173\n",
       " 37            3985000              990100       0.191797\n",
       " 38            4079000             1000000       0.250551\n",
       " 39            4132000              990170       0.238833\n",
       " 40               7200              549930       0.273415\n",
       " 41             151000              487540       0.273371\n",
       " 42            4955000             1000000       0.193201}"
      ]
     },
     "execution_count": 12,
     "metadata": {},
     "output_type": "execute_result"
    }
   ],
   "source": [
    "all_sheets"
   ]
  },
  {
   "cell_type": "code",
   "execution_count": 13,
   "metadata": {},
   "outputs": [
    {
     "data": {
      "application/json": {
       "ascii": false,
       "bar_format": null,
       "colour": null,
       "elapsed": 0.015290975570678711,
       "initial": 0,
       "n": 0,
       "ncols": null,
       "nrows": null,
       "postfix": null,
       "prefix": "",
       "rate": null,
       "total": 2,
       "unit": "it",
       "unit_divisor": 1000,
       "unit_scale": false
      },
      "application/vnd.jupyter.widget-view+json": {
       "model_id": "4f2d791d3d6043a899fd9e14abe35add",
       "version_major": 2,
       "version_minor": 0
      },
      "text/plain": [
       "  0%|          | 0/2 [00:00<?, ?it/s]"
      ]
     },
     "metadata": {},
     "output_type": "display_data"
    },
    {
     "name": "stdout",
     "output_type": "stream",
     "text": [
      "Dataframe from sheet: Sheet1\n",
      "  متغیر  مستقل x متغیر وابسته y\n",
      "0          price            ytm\n",
      "1            NaN            NaN\n",
      "2            NaN            NaN\n",
      "3            NaN            NaN\n",
      "4            NaN            NaN\n",
      "Dataframe from sheet: Sheet1 (2)\n",
      "  متغیر مستقل دوم x2 متغیر  مستقل اول x1 متغیر وابسته y\n",
      "0          inventory               price            ytm\n",
      "1                NaN                 NaN            NaN\n",
      "2                NaN                 NaN            NaN\n",
      "3                NaN                 NaN            NaN\n",
      "4                NaN                 NaN            NaN\n"
     ]
    }
   ],
   "source": [
    "import pandas as pd\n",
    "from tqdm.notebook import tqdm\n",
    "\n",
    "def read_all_sheets_from_excel(path: str) -> dict:\n",
    "    all_sheets = pd.read_excel(path, sheet_name=None)\n",
    "    dataframes = {}\n",
    "    for sheet_name, df in tqdm(all_sheets.items()):\n",
    "        # Strip whitespace from column names\n",
    "        # df = df.rename(columns=lambda x: x.strip() if isinstance(x, str) else x)\n",
    "        # # Strip whitespace from cells\n",
    "        # df = df.apply(lambda col: col.str.strip() if col.dtype == \"object\" else col)\n",
    "        dataframes[sheet_name] = df\n",
    "    return dataframes\n",
    "\n",
    "# Load the data from the Excel file\n",
    "file_path = 'Book1.xlsx'\n",
    "dataframes = read_all_sheets_from_excel(file_path)\n",
    "\n",
    "# Print each dataframe name and head\n",
    "for sheet_name, df in dataframes.items():\n",
    "    print('Dataframe from sheet:', sheet_name)\n",
    "    print(df.head())"
   ]
  }
 ],
 "metadata": {
  "kernelspec": {
   "display_name": "Python 3",
   "language": "python",
   "name": "python3"
  },
  "language_info": {
   "codemirror_mode": {
    "name": "ipython",
    "version": 3
   },
   "file_extension": ".py",
   "mimetype": "text/x-python",
   "name": "python",
   "nbconvert_exporter": "python",
   "pygments_lexer": "ipython3",
   "version": "3.10.12"
  }
 },
 "nbformat": 4,
 "nbformat_minor": 2
}
